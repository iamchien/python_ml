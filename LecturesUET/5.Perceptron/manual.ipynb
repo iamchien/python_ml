{
 "cells": [
  {
   "cell_type": "code",
   "execution_count": 178,
   "metadata": {},
   "outputs": [],
   "source": [
    "import numpy as np"
   ]
  },
  {
   "attachments": {},
   "cell_type": "markdown",
   "metadata": {},
   "source": [
    "Prepare"
   ]
  },
  {
   "cell_type": "code",
   "execution_count": 179,
   "metadata": {},
   "outputs": [],
   "source": [
    "\n",
    "class Perceptron: \n",
    "    def fit(self, X, y, w_init, n_iter=100):\n",
    "        \n",
    "        n_samples = X.shape[0]\n",
    "        \n",
    "        # Add 1 for the bias term\n",
    "        self.weights = [np.ravel(w_init)]\n",
    "        \n",
    "        # Add column of 1s\n",
    "        X = np.concatenate([X, np.ones((n_samples, 1))], axis=1)\n",
    "        \n",
    "        mis_points = []\n",
    "\n",
    "        for i in range(n_iter):\n",
    "            for j in range(n_samples):\n",
    "                if y[j]*np.dot(self.weights[-1], X[j,:]) <= 0:\n",
    "                    mis_points.append(j)\n",
    "                    new_weights = self.weights[-1] + y[j]*X[j,:]\n",
    "            \n",
    "            self.weights.append(new_weights)\n",
    "    \n",
    "        return (np.array(self.weights), np.array(mis_points))\n",
    "\n",
    "    def predict(self, X):\n",
    "        if not hasattr(self, 'weights'):\n",
    "            print('The model is not trained yet!')\n",
    "            return\n",
    "        \n",
    "        n_samples = X.shape[0]\n",
    "        # Add column of 1s\n",
    "        X = np.concatenate([X, np.ones((n_samples, 1))], axis=1)\n",
    "        y = np.matmul(X, self.weights)\n",
    "        y = np.vectorize(lambda val: 1 if val > 0 else -1)(y)\n",
    "        \n",
    "        return y\n",
    "    \n",
    "    def score(self, X, y):\n",
    "        pred_y = self.predict(X)\n",
    "        \n",
    "        return np.mean(y == pred_y)"
   ]
  },
  {
   "cell_type": "code",
   "execution_count": 180,
   "metadata": {},
   "outputs": [],
   "source": [
    "perceptron = Perceptron()"
   ]
  },
  {
   "attachments": {},
   "cell_type": "markdown",
   "metadata": {},
   "source": [
    "## Utils Func"
   ]
  },
  {
   "cell_type": "code",
   "execution_count": 229,
   "metadata": {},
   "outputs": [],
   "source": [
    "import matplotlib.pyplot as plt"
   ]
  },
  {
   "cell_type": "code",
   "execution_count": 230,
   "metadata": {},
   "outputs": [],
   "source": [
    "plt.style.use('bmh')"
   ]
  },
  {
   "cell_type": "code",
   "execution_count": 245,
   "metadata": {},
   "outputs": [],
   "source": [
    "def draw_line(w):\n",
    "    w0, w1, w2 = w[0], w[1], w[2]\n",
    "    if w2 != 0:\n",
    "        x11, x12 = -50, 50\n",
    "        return plt.plot([x11, x12], [-(w1*x11 + w0)/w2, -(w1*x12 + w0)/w2], 'k')\n",
    "    else:\n",
    "        x10 = -w0/w1\n",
    "        return plt.plot([x10, x10], [-50, 50], 'k')"
   ]
  },
  {
   "cell_type": "code",
   "execution_count": 246,
   "metadata": {},
   "outputs": [],
   "source": [
    "import matplotlib.animation as animation\n",
    "from matplotlib.animation import FuncAnimation\n",
    "# from IPython.display import clear_output"
   ]
  },
  {
   "cell_type": "code",
   "execution_count": 247,
   "metadata": {},
   "outputs": [],
   "source": [
    "def viz_alg_1d_2(X,y,w,m): # 2 class\n",
    "    X0 = X[np.where(y == 0)]\n",
    "    X1 = X[np.where(y == 1)]\n",
    "    it = len(w)\n",
    "    fig, ax = plt.subplots()\n",
    "    \n",
    "    def update(i):\n",
    "        ani = plt.cla()\n",
    "        #points\n",
    "        # ani = plt.plot(X0, 'b^', markersize = 8, alpha = .8)\n",
    "        # ani = plt.plot(X1, 'ro', markersize = 8, alpha = .8)\n",
    "        ani = plt.plot(X0, 'b^')\n",
    "        ani = plt.plot(X1, 'ro')\n",
    "\n",
    "        ani = plt.axis([min(X[:,0]) - 10 , max(X[:,0]) + 10, min(X[:,1]) - 10 , max(X[:,1] + 10)])\n",
    "\n",
    "        i2 =  i if i < it else it-1\n",
    "        ani = draw_line(w[i2])\n",
    "        \n",
    "        # draw one misclassified point\n",
    "        circle = plt.Circle(X[m[i],:], 0.15, color='k', fill = False)\n",
    "        ax.add_artist(circle)\n",
    "\n",
    "        label = 'PLA: iter %d/%d' %(i2, it-1)\n",
    "        ax.set_xlabel(label)\n",
    "\n",
    "        # clear_output(wait = True)\n",
    "        # plt.pause(0.0001)\n",
    "\n",
    "        return ani, ax\n",
    "        \n",
    "    anim = FuncAnimation(fig, update, frames=np.arange(0, it + 2), interval=100)\n",
    "    # save \n",
    "    anim.save('pla_vis.gif', dpi = 100, fps = 5, writer = 'pillow')\n",
    "    # plt.show()"
   ]
  },
  {
   "cell_type": "code",
   "execution_count": 248,
   "metadata": {},
   "outputs": [],
   "source": [
    "from sklearn.datasets import make_classification, make_circles"
   ]
  },
  {
   "attachments": {},
   "cell_type": "markdown",
   "metadata": {},
   "source": [
    "## Linearly Separable"
   ]
  },
  {
   "cell_type": "code",
   "execution_count": 249,
   "metadata": {},
   "outputs": [],
   "source": [
    "X, y = make_classification(\n",
    "    n_features=2,\n",
    "    n_classes=2,\n",
    "    n_samples=200,\n",
    "    n_redundant=0,\n",
    "    n_clusters_per_class=1\n",
    ")"
   ]
  },
  {
   "cell_type": "code",
   "execution_count": 250,
   "metadata": {},
   "outputs": [],
   "source": [
    "w_init = np.random.randn(X.shape[1] + 1,1)"
   ]
  },
  {
   "cell_type": "code",
   "execution_count": 251,
   "metadata": {},
   "outputs": [],
   "source": [
    "w, mis_points = perceptron.fit(X,y,w_init)"
   ]
  },
  {
   "attachments": {},
   "cell_type": "markdown",
   "metadata": {},
   "source": [
    "Visualization"
   ]
  },
  {
   "cell_type": "code",
   "execution_count": 252,
   "metadata": {},
   "outputs": [
    {
     "data": {
      "image/png": "[encoded data removed]",
      "text/plain": [
       "<Figure size 640x480 with 1 Axes>"
      ]
     },
     "metadata": {},
     "output_type": "display_data"
    }
   ],
   "source": [
    "viz_alg_1d_2(X,y,w,mis_points)"
   ]
  }
 ],
 "metadata": {
  "kernelspec": {
   "display_name": "Python 3",
   "language": "python",
   "name": "python3"
  },
  "language_info": {
   "codemirror_mode": {
    "name": "ipython",
    "version": 3
   },
   "file_extension": ".py",
   "mimetype": "text/x-python",
   "name": "python",
   "nbconvert_exporter": "python",
   "pygments_lexer": "ipython3",
   "version": "3.7.9"
  },
  "orig_nbformat": 4
 },
 "nbformat": 4,
 "nbformat_minor": 2
}
